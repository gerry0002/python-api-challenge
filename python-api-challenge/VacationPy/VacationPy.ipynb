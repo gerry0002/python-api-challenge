{
 "cells": [
  {
   "cell_type": "markdown",
   "metadata": {},
   "source": [
    "# VacationPy\n",
    "----\n",
    "\n",
    "#### Note\n",
    "* Keep an eye on your API usage. Use https://developers.google.com/maps/reporting/gmp-reporting as reference for how to monitor your usage and billing.\n",
    "\n",
    "* Instructions have been included for each segment. You do not have to follow them exactly, but they are included to help you think through the steps."
   ]
  },
  {
   "cell_type": "code",
   "execution_count": 1,
   "metadata": {},
   "outputs": [
    {
     "name": "stderr",
     "output_type": "stream",
     "text": [
      "Enabling notebook extension jupyter-gmaps/extension...\n",
      "      - Validating: ok\n"
     ]
    }
   ],
   "source": [
    "!jupyter nbextension enable --py gmaps"
   ]
  },
  {
   "cell_type": "code",
   "execution_count": 18,
   "metadata": {},
   "outputs": [],
   "source": [
    "# Dependencies and Setup\n",
    "import matplotlib.pyplot as plt\n",
    "import pandas as pd\n",
    "import numpy as np\n",
    "import requests\n",
    "import gmaps\n",
    "import os\n",
    "from pprint import pprint\n",
    "\n",
    "# Import API key\n",
    "from api_keys import g_key"
   ]
  },
  {
   "cell_type": "markdown",
   "metadata": {},
   "source": [
    "### Store Part I results into DataFrame\n",
    "* Load the csv exported in Part I to a DataFrame"
   ]
  },
  {
   "cell_type": "code",
   "execution_count": 3,
   "metadata": {},
   "outputs": [
    {
     "data": {
      "text/plain": [
       "34.150000000000034"
      ]
     },
     "execution_count": 3,
     "metadata": {},
     "output_type": "execute_result"
    }
   ],
   "source": [
    "cities_df = pd.read_csv(\"../WeatherPy/Output_cities.csv\")\n",
    "cities_df[\"max_temp\"]=cities_df[\"max_temp\"]-273.15\n",
    "cities_df[\"max_temp\"].max()\n"
   ]
  },
  {
   "cell_type": "markdown",
   "metadata": {},
   "source": [
    "### Humidity Heatmap\n",
    "* Configure gmaps.\n",
    "* Use the Lat and Lng as locations and Humidity as the weight.\n",
    "* Add Heatmap layer to map."
   ]
  },
  {
   "cell_type": "code",
   "execution_count": 4,
   "metadata": {},
   "outputs": [
    {
     "data": {
      "application/vnd.jupyter.widget-view+json": {
       "model_id": "d7d6e6eecbfe479188e391c22a7c6856",
       "version_major": 2,
       "version_minor": 0
      },
      "text/plain": [
       "Figure(layout=FigureLayout(height='420px'))"
      ]
     },
     "metadata": {},
     "output_type": "display_data"
    }
   ],
   "source": [
    " # Create a poverty Heatmap layer\n",
    "fig = gmaps.figure()\n",
    "\n",
    "locations = cities_df[[\"lat\",\"lon\"]].astype(float)\n",
    "humidity = cities_df[\"humidity\"].astype(float)\n",
    "\n",
    "heat_layer = gmaps.heatmap_layer(locations, weights=humidity, \n",
    "                                 dissipating=False, max_intensity=100,\n",
    "                                 point_radius = 1)\n",
    "fig.add_layer(heat_layer)\n",
    "\n",
    "fig\n",
    "\n"
   ]
  },
  {
   "cell_type": "markdown",
   "metadata": {},
   "source": [
    "### Create new DataFrame fitting weather criteria\n",
    "* Narrow down the cities to fit weather conditions.\n",
    "* Drop any rows will null values."
   ]
  },
  {
   "cell_type": "code",
   "execution_count": 6,
   "metadata": {},
   "outputs": [
    {
     "data": {
      "text/html": [
       "<div>\n",
       "<style scoped>\n",
       "    .dataframe tbody tr th:only-of-type {\n",
       "        vertical-align: middle;\n",
       "    }\n",
       "\n",
       "    .dataframe tbody tr th {\n",
       "        vertical-align: top;\n",
       "    }\n",
       "\n",
       "    .dataframe thead th {\n",
       "        text-align: right;\n",
       "    }\n",
       "</style>\n",
       "<table border=\"1\" class=\"dataframe\">\n",
       "  <thead>\n",
       "    <tr style=\"text-align: right;\">\n",
       "      <th></th>\n",
       "      <th>city_name</th>\n",
       "      <th>city_number</th>\n",
       "      <th>cloudiness</th>\n",
       "      <th>country</th>\n",
       "      <th>date</th>\n",
       "      <th>humidity</th>\n",
       "      <th>lat</th>\n",
       "      <th>lon</th>\n",
       "      <th>max_temp</th>\n",
       "      <th>win_peed</th>\n",
       "    </tr>\n",
       "  </thead>\n",
       "  <tbody>\n",
       "    <tr>\n",
       "      <th>39</th>\n",
       "      <td>Pisco</td>\n",
       "      <td>3932145</td>\n",
       "      <td>0</td>\n",
       "      <td>PE</td>\n",
       "      <td>1613163098</td>\n",
       "      <td>54</td>\n",
       "      <td>-13.7000</td>\n",
       "      <td>-76.2167</td>\n",
       "      <td>29.00</td>\n",
       "      <td>7.72</td>\n",
       "    </tr>\n",
       "    <tr>\n",
       "      <th>67</th>\n",
       "      <td>San Juan Bautista</td>\n",
       "      <td>3929493</td>\n",
       "      <td>0</td>\n",
       "      <td>PE</td>\n",
       "      <td>1613163300</td>\n",
       "      <td>54</td>\n",
       "      <td>-14.0108</td>\n",
       "      <td>-75.7358</td>\n",
       "      <td>29.00</td>\n",
       "      <td>7.72</td>\n",
       "    </tr>\n",
       "    <tr>\n",
       "      <th>77</th>\n",
       "      <td>Pitimbu</td>\n",
       "      <td>3391889</td>\n",
       "      <td>75</td>\n",
       "      <td>BR</td>\n",
       "      <td>1613163103</td>\n",
       "      <td>70</td>\n",
       "      <td>-7.4706</td>\n",
       "      <td>-34.8086</td>\n",
       "      <td>29.00</td>\n",
       "      <td>6.69</td>\n",
       "    </tr>\n",
       "    <tr>\n",
       "      <th>133</th>\n",
       "      <td>Touros</td>\n",
       "      <td>3386213</td>\n",
       "      <td>40</td>\n",
       "      <td>BR</td>\n",
       "      <td>1613163101</td>\n",
       "      <td>70</td>\n",
       "      <td>-5.1989</td>\n",
       "      <td>-35.4608</td>\n",
       "      <td>29.00</td>\n",
       "      <td>7.20</td>\n",
       "    </tr>\n",
       "    <tr>\n",
       "      <th>167</th>\n",
       "      <td>Lufilufi</td>\n",
       "      <td>4035249</td>\n",
       "      <td>38</td>\n",
       "      <td>WS</td>\n",
       "      <td>1613163318</td>\n",
       "      <td>70</td>\n",
       "      <td>-13.8745</td>\n",
       "      <td>-171.5986</td>\n",
       "      <td>28.32</td>\n",
       "      <td>3.73</td>\n",
       "    </tr>\n",
       "    <tr>\n",
       "      <th>201</th>\n",
       "      <td>Yuty</td>\n",
       "      <td>3436547</td>\n",
       "      <td>48</td>\n",
       "      <td>PY</td>\n",
       "      <td>1613163323</td>\n",
       "      <td>69</td>\n",
       "      <td>-26.6000</td>\n",
       "      <td>-56.2500</td>\n",
       "      <td>28.07</td>\n",
       "      <td>1.65</td>\n",
       "    </tr>\n",
       "    <tr>\n",
       "      <th>236</th>\n",
       "      <td>Tual</td>\n",
       "      <td>1623197</td>\n",
       "      <td>100</td>\n",
       "      <td>ID</td>\n",
       "      <td>1613163101</td>\n",
       "      <td>79</td>\n",
       "      <td>-5.6667</td>\n",
       "      <td>132.7500</td>\n",
       "      <td>28.61</td>\n",
       "      <td>4.78</td>\n",
       "    </tr>\n",
       "    <tr>\n",
       "      <th>285</th>\n",
       "      <td>Carauari</td>\n",
       "      <td>3664659</td>\n",
       "      <td>86</td>\n",
       "      <td>BR</td>\n",
       "      <td>1613163146</td>\n",
       "      <td>81</td>\n",
       "      <td>-4.8828</td>\n",
       "      <td>-66.8958</td>\n",
       "      <td>28.57</td>\n",
       "      <td>0.94</td>\n",
       "    </tr>\n",
       "    <tr>\n",
       "      <th>296</th>\n",
       "      <td>Autazes</td>\n",
       "      <td>3406948</td>\n",
       "      <td>95</td>\n",
       "      <td>BR</td>\n",
       "      <td>1613163339</td>\n",
       "      <td>77</td>\n",
       "      <td>-3.5797</td>\n",
       "      <td>-59.1306</td>\n",
       "      <td>28.95</td>\n",
       "      <td>0.73</td>\n",
       "    </tr>\n",
       "    <tr>\n",
       "      <th>380</th>\n",
       "      <td>Cabedelo</td>\n",
       "      <td>3404558</td>\n",
       "      <td>75</td>\n",
       "      <td>BR</td>\n",
       "      <td>1613163354</td>\n",
       "      <td>70</td>\n",
       "      <td>-6.9811</td>\n",
       "      <td>-34.8339</td>\n",
       "      <td>29.00</td>\n",
       "      <td>6.69</td>\n",
       "    </tr>\n",
       "    <tr>\n",
       "      <th>399</th>\n",
       "      <td>Oranjestad</td>\n",
       "      <td>3577154</td>\n",
       "      <td>20</td>\n",
       "      <td>AW</td>\n",
       "      <td>1613163358</td>\n",
       "      <td>61</td>\n",
       "      <td>12.5240</td>\n",
       "      <td>-70.0270</td>\n",
       "      <td>29.00</td>\n",
       "      <td>11.83</td>\n",
       "    </tr>\n",
       "  </tbody>\n",
       "</table>\n",
       "</div>"
      ],
      "text/plain": [
       "             city_name  city_number  cloudiness country        date  humidity  \\\n",
       "39               Pisco      3932145           0      PE  1613163098        54   \n",
       "67   San Juan Bautista      3929493           0      PE  1613163300        54   \n",
       "77             Pitimbu      3391889          75      BR  1613163103        70   \n",
       "133             Touros      3386213          40      BR  1613163101        70   \n",
       "167           Lufilufi      4035249          38      WS  1613163318        70   \n",
       "201               Yuty      3436547          48      PY  1613163323        69   \n",
       "236               Tual      1623197         100      ID  1613163101        79   \n",
       "285           Carauari      3664659          86      BR  1613163146        81   \n",
       "296            Autazes      3406948          95      BR  1613163339        77   \n",
       "380           Cabedelo      3404558          75      BR  1613163354        70   \n",
       "399         Oranjestad      3577154          20      AW  1613163358        61   \n",
       "\n",
       "         lat       lon  max_temp  win_peed  \n",
       "39  -13.7000  -76.2167     29.00      7.72  \n",
       "67  -14.0108  -75.7358     29.00      7.72  \n",
       "77   -7.4706  -34.8086     29.00      6.69  \n",
       "133  -5.1989  -35.4608     29.00      7.20  \n",
       "167 -13.8745 -171.5986     28.32      3.73  \n",
       "201 -26.6000  -56.2500     28.07      1.65  \n",
       "236  -5.6667  132.7500     28.61      4.78  \n",
       "285  -4.8828  -66.8958     28.57      0.94  \n",
       "296  -3.5797  -59.1306     28.95      0.73  \n",
       "380  -6.9811  -34.8339     29.00      6.69  \n",
       "399  12.5240  -70.0270     29.00     11.83  "
      ]
     },
     "execution_count": 6,
     "metadata": {},
     "output_type": "execute_result"
    }
   ],
   "source": [
    "cities_df = cities_df[(cities_df[\"max_temp\"] < 30) & (cities_df[\"max_temp\"] > 28)]\n",
    "cities_df"
   ]
  },
  {
   "cell_type": "markdown",
   "metadata": {},
   "source": [
    "### Hotel Map\n",
    "* Store into variable named `hotel_df`.\n",
    "* Add a \"Hotel Name\" column to the DataFrame.\n",
    "* Set parameters to search for hotels with 5000 meters.\n",
    "* Hit the Google Places API for each city's coordinates.\n",
    "* Store the first Hotel result into the DataFrame.\n",
    "* Plot markers on top of the heatmap."
   ]
  },
  {
   "cell_type": "code",
   "execution_count": 35,
   "metadata": {},
   "outputs": [
    {
     "name": "stderr",
     "output_type": "stream",
     "text": [
      "<ipython-input-35-540189f5c0c9>:2: SettingWithCopyWarning: \n",
      "A value is trying to be set on a copy of a slice from a DataFrame.\n",
      "Try using .loc[row_indexer,col_indexer] = value instead\n",
      "\n",
      "See the caveats in the documentation: https://pandas.pydata.org/pandas-docs/stable/user_guide/indexing.html#returning-a-view-versus-a-copy\n",
      "  hotel_df[\"Hotel Name\"] =\"\"\n"
     ]
    },
    {
     "name": "stdout",
     "output_type": "stream",
     "text": [
      "'Hotel San Isidro Oficial'\n",
      "'Hotel Las Dunas'\n",
      "'City of Pitimbu'\n"
     ]
    }
   ],
   "source": [
    "hotel_df = cities_df.head(3)\n",
    "hotel_df[\"Hotel Name\"] =\"\"\n",
    "\n",
    "\n",
    "for index, row in hotel_df.iterrows():\n",
    "    \n",
    "    target_coordinates = f'{row[\"lat\"]},{row[\"lon\"]}'\n",
    "    target_search = \"\"\n",
    "    target_radius = 5000\n",
    "    target_type = \"hotel\"\n",
    "    \n",
    "    params = {\n",
    "        \"location\": target_coordinates,\n",
    "        \"keyword\": target_search,\n",
    "        \"radius\": target_radius,\n",
    "        \"type\": target_type,\n",
    "        \"key\": g_key\n",
    "    }\n",
    "\n",
    "    # base url\n",
    "    base_url = \"https://maps.googleapis.com/maps/api/place/nearbysearch/json\"\n",
    "\n",
    "    # run a request using our params dictionary\n",
    "    response = requests.get(base_url, params=params)\n",
    "    rep = response.json()\n",
    "    hotel_df.at[index,\"Hotel Name\"] = rep[\"results\"][1][\"name\"]\n",
    "    pprint(rep[\"results\"][1][\"name\"])\n",
    "    "
   ]
  },
  {
   "cell_type": "code",
   "execution_count": null,
   "metadata": {},
   "outputs": [],
   "source": [
    "# NOTE: Do not change any of the code in this cell\n",
    "\n",
    "# Using the template add the hotel marks to the heatmap\n",
    "info_box_template = \"\"\"\n",
    "<dl>\n",
    "<dt>Name</dt><dd>{Hotel Name}</dd>\n",
    "<dt>City</dt><dd>{City}</dd>\n",
    "<dt>Country</dt><dd>{Country}</dd>\n",
    "</dl>\n",
    "\"\"\"\n",
    "# Store the DataFrame Row\n",
    "# NOTE: be sure to update with your DataFrame name\n",
    "hotel_info = [info_box_template.format(**row) for index, row in hotel_df.iterrows()]\n",
    "locations = hotel_df[[\"Lat\", \"Lng\"]]"
   ]
  },
  {
   "cell_type": "code",
   "execution_count": 44,
   "metadata": {},
   "outputs": [],
   "source": [
    "# Add marker layer ontop of heat map\n",
    "locations = hotel_df[[\"lat\",\"lon\"]].astype(float)\n",
    "hotel_names = hotel_df[\"Hotel Name\"]\n",
    "# Display figure\n",
    "hotel_layer = gmaps.symbol_layer(\n",
    "    locations, fill_color='rgba(0, 150, 0, 0.4)',\n",
    "    stroke_color='rgba(0, 0, 150, 0.4)', scale=2\n",
    "    \n",
    ")\n",
    "fig = gmaps.figure()\n",
    "fig.add_layer(hotel_layer)"
   ]
  },
  {
   "cell_type": "code",
   "execution_count": 40,
   "metadata": {},
   "outputs": [
    {
     "data": {
      "text/html": [
       "<div>\n",
       "<style scoped>\n",
       "    .dataframe tbody tr th:only-of-type {\n",
       "        vertical-align: middle;\n",
       "    }\n",
       "\n",
       "    .dataframe tbody tr th {\n",
       "        vertical-align: top;\n",
       "    }\n",
       "\n",
       "    .dataframe thead th {\n",
       "        text-align: right;\n",
       "    }\n",
       "</style>\n",
       "<table border=\"1\" class=\"dataframe\">\n",
       "  <thead>\n",
       "    <tr style=\"text-align: right;\">\n",
       "      <th></th>\n",
       "      <th>city_name</th>\n",
       "      <th>city_number</th>\n",
       "      <th>cloudiness</th>\n",
       "      <th>country</th>\n",
       "      <th>date</th>\n",
       "      <th>humidity</th>\n",
       "      <th>lat</th>\n",
       "      <th>lon</th>\n",
       "      <th>max_temp</th>\n",
       "      <th>win_peed</th>\n",
       "      <th>Hotel Name</th>\n",
       "    </tr>\n",
       "  </thead>\n",
       "  <tbody>\n",
       "    <tr>\n",
       "      <th>39</th>\n",
       "      <td>Pisco</td>\n",
       "      <td>3932145</td>\n",
       "      <td>0</td>\n",
       "      <td>PE</td>\n",
       "      <td>1613163098</td>\n",
       "      <td>54</td>\n",
       "      <td>-13.7000</td>\n",
       "      <td>-76.2167</td>\n",
       "      <td>29.0</td>\n",
       "      <td>7.72</td>\n",
       "      <td>Hotel San Isidro Oficial</td>\n",
       "    </tr>\n",
       "    <tr>\n",
       "      <th>67</th>\n",
       "      <td>San Juan Bautista</td>\n",
       "      <td>3929493</td>\n",
       "      <td>0</td>\n",
       "      <td>PE</td>\n",
       "      <td>1613163300</td>\n",
       "      <td>54</td>\n",
       "      <td>-14.0108</td>\n",
       "      <td>-75.7358</td>\n",
       "      <td>29.0</td>\n",
       "      <td>7.72</td>\n",
       "      <td>Hotel Las Dunas</td>\n",
       "    </tr>\n",
       "    <tr>\n",
       "      <th>77</th>\n",
       "      <td>Pitimbu</td>\n",
       "      <td>3391889</td>\n",
       "      <td>75</td>\n",
       "      <td>BR</td>\n",
       "      <td>1613163103</td>\n",
       "      <td>70</td>\n",
       "      <td>-7.4706</td>\n",
       "      <td>-34.8086</td>\n",
       "      <td>29.0</td>\n",
       "      <td>6.69</td>\n",
       "      <td>City of Pitimbu</td>\n",
       "    </tr>\n",
       "  </tbody>\n",
       "</table>\n",
       "</div>"
      ],
      "text/plain": [
       "            city_name  city_number  cloudiness country        date  humidity  \\\n",
       "39              Pisco      3932145           0      PE  1613163098        54   \n",
       "67  San Juan Bautista      3929493           0      PE  1613163300        54   \n",
       "77            Pitimbu      3391889          75      BR  1613163103        70   \n",
       "\n",
       "        lat      lon  max_temp  win_peed                Hotel Name  \n",
       "39 -13.7000 -76.2167      29.0      7.72  Hotel San Isidro Oficial  \n",
       "67 -14.0108 -75.7358      29.0      7.72           Hotel Las Dunas  \n",
       "77  -7.4706 -34.8086      29.0      6.69           City of Pitimbu  "
      ]
     },
     "execution_count": 40,
     "metadata": {},
     "output_type": "execute_result"
    }
   ],
   "source": []
  },
  {
   "cell_type": "code",
   "execution_count": null,
   "metadata": {},
   "outputs": [],
   "source": []
  }
 ],
 "metadata": {
  "kernelspec": {
   "display_name": "Python 3",
   "language": "python",
   "name": "python3"
  },
  "language_info": {
   "codemirror_mode": {
    "name": "ipython",
    "version": 3
   },
   "file_extension": ".py",
   "mimetype": "text/x-python",
   "name": "python",
   "nbconvert_exporter": "python",
   "pygments_lexer": "ipython3",
   "version": "3.8.3"
  },
  "latex_envs": {
   "LaTeX_envs_menu_present": true,
   "autoclose": false,
   "autocomplete": true,
   "bibliofile": "biblio.bib",
   "cite_by": "apalike",
   "current_citInitial": 1,
   "eqLabelWithNumbers": true,
   "eqNumInitial": 1,
   "hotkeys": {
    "equation": "Ctrl-E",
    "itemize": "Ctrl-I"
   },
   "labels_anchors": false,
   "latex_user_defs": false,
   "report_style_numbering": false,
   "user_envs_cfg": false
  }
 },
 "nbformat": 4,
 "nbformat_minor": 4
}
